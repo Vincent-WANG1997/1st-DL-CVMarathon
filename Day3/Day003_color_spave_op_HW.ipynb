{
 "cells": [
  {
   "cell_type": "code",
   "execution_count": 1,
   "metadata": {},
   "outputs": [],
   "source": [
    "import cv2\n",
    "import numpy as np\n",
    "\n",
    "img = cv2.imread('lena.png')\n",
    "img_hsv = cv2.cvtColor(img, cv2.COLOR_BGR2HSV)\n",
    "img_gray = cv2.cvtColor(img, cv2.COLOR_BGR2GRAY)"
   ]
  },
  {
   "cell_type": "code",
   "execution_count": 7,
   "metadata": {},
   "outputs": [],
   "source": [
    "#降低飽和度\n",
    "img_down = img_hsv.astype('float32')\n",
    "img_down[...,-1] /=  255\n",
    "img_down[...,-1] -= 0.2\n",
    "img_down[img_down[...,-1] < 0] = 0\n",
    "img_down[...,-1] *= 255\n",
    "img_down = img_down.astype('uint8')\n",
    "img_down = cv2.cvtColor(img_down, cv2.COLOR_HSV2BGR)\n",
    "\n",
    "#增加飽和度\n",
    "img_up = img_hsv.astype('float32')\n",
    "img_up[...,-1] /= 255\n",
    "img_up[...,-1] += 0.1\n",
    "img_up[img_up[...,-1] > 1] = 1\n",
    "img_up[...,-1] *= 255\n",
    "img_up = img_up.astype('uint8')\n",
    "img_up = cv2.cvtColor(img_up, cv2.COLOR_HSV2BGR)\n",
    "\n",
    "img_change = np.hstack((img,img_down,img_up))\n",
    "\n",
    "#直方圖均衡\n",
    "img_equal = cv2.equalizeHist(img_gray)\n",
    "img_equalHist = np.hstack((img_gray,img_equal))\n",
    "\n",
    "#調整對比/明亮\n",
    "img_adj1 = cv2.convertScaleAbs(img, alpha = 2.0, beta = 0)\n",
    "img_adj2 = cv2.convertScaleAbs(img, alpha = 1.0, beta = 50)\n",
    "img_adjust = np.hstack((img,img_adj1, img_adj2))\n",
    "\n",
    "while True:\n",
    "    cv2.imshow('change saturation',img_change)\n",
    "    cv2.imshow('gray equal histogram', img_equalHist)\n",
    "    cv2.imshow('adjust contrast and brighness', img_adjust)\n",
    "    \n",
    "    k = cv2.waitKey(0)\n",
    "    if k == 27:\n",
    "        cv2.destroyAllWindows()\n",
    "        break"
   ]
  },
  {
   "cell_type": "code",
   "execution_count": null,
   "metadata": {},
   "outputs": [],
   "source": []
  }
 ],
 "metadata": {
  "kernelspec": {
   "display_name": "Python 3",
   "language": "python",
   "name": "python3"
  },
  "language_info": {
   "codemirror_mode": {
    "name": "ipython",
    "version": 3
   },
   "file_extension": ".py",
   "mimetype": "text/x-python",
   "name": "python",
   "nbconvert_exporter": "python",
   "pygments_lexer": "ipython3",
   "version": "3.8.5"
  }
 },
 "nbformat": 4,
 "nbformat_minor": 4
}
