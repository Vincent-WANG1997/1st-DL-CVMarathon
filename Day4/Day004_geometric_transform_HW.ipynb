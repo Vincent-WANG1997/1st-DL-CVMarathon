{
 "cells": [
  {
   "cell_type": "code",
   "execution_count": 1,
   "metadata": {},
   "outputs": [],
   "source": [
    "import cv2\n",
    "import numpy as np\n",
    "\n",
    "img = cv2.imread('lena.png')\n",
    "\n",
    "#翻轉\n",
    "img_hflip = img[:, ::-1, :]\n",
    "hflip = np.hstack((img,img_hflip))\n",
    "vflip = hflip[::-1, :, :]\n",
    "flip = np.vstack((hflip,vflip))\n",
    "\n",
    "#縮放\n",
    "img_near = cv2.resize(img, None, fx = 2, fy = 2, interpolation = cv2.INTER_NEAREST)\n",
    "img_linear = cv2.resize(img, None, fx = 2, fy = 2, interpolation = cv2.INTER_LINEAR)\n",
    "img_zoom = np.hstack((img_near, img_linear))\n",
    "\n",
    "#平移\n",
    "M = np.array([[1, 0, 100],\n",
    "             [0, 1, 50]] ,dtype = np.float32)\n",
    "rows, columns = img.shape[:2]\n",
    "img_shift = cv2.warpAffine(img, M, (rows, columns))\n",
    "\n",
    "while True:\n",
    "    cv2.imshow('flip', flip)\n",
    "    cv2.imshow('zoom', img_zoom)\n",
    "    cv2.imshow('shift', img_shift)\n",
    "    k = cv2.waitKey(0)\n",
    "    if k == 27:\n",
    "        cv2.destroyAllWindows()\n",
    "        break"
   ]
  },
  {
   "cell_type": "code",
   "execution_count": null,
   "metadata": {},
   "outputs": [],
   "source": []
  }
 ],
 "metadata": {
  "kernelspec": {
   "display_name": "Python 3",
   "language": "python",
   "name": "python3"
  },
  "language_info": {
   "codemirror_mode": {
    "name": "ipython",
    "version": 3
   },
   "file_extension": ".py",
   "mimetype": "text/x-python",
   "name": "python",
   "nbconvert_exporter": "python",
   "pygments_lexer": "ipython3",
   "version": "3.8.5"
  }
 },
 "nbformat": 4,
 "nbformat_minor": 4
}
